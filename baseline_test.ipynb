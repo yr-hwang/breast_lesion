{
 "cells": [
  {
   "cell_type": "markdown",
   "metadata": {},
   "source": [
    "# 2024 maithon baseline - test\n"
   ]
  },
  {
   "cell_type": "code",
   "execution_count": null,
   "metadata": {},
   "outputs": [],
   "source": [
    "import torch\n",
    "\n",
    "\n",
    "device = torch.device(\"cuda\" if torch.cuda.is_available() else \"cpu\")\n",
    "print(device)"
   ]
  },
  {
   "cell_type": "code",
   "execution_count": 2,
   "metadata": {},
   "outputs": [],
   "source": [
    "import albumentations as A\n",
    "\n",
    "\n",
    "UNET_RESIZE = 256\n",
    "\n",
    "transform = A.Compose(\n",
    "    [\n",
    "        A.Resize(height=UNET_RESIZE, width=UNET_RESIZE),\n",
    "        A.Normalize(),\n",
    "    ]\n",
    ")"
   ]
  },
  {
   "cell_type": "code",
   "execution_count": 3,
   "metadata": {},
   "outputs": [],
   "source": [
    "from torch.utils.data import DataLoader\n",
    "from dicom_nii_2d_dataset import DicomNii2DDataset\n",
    "\n",
    "\n",
    "BATCH_SIZE = 16\n",
    "\n",
    "# 검증 시에는 shuffle=False\n",
    "test_dataset = DicomNii2DDataset(\"./smart_health_care2/test/breast\", transform)\n",
    "test_dataloader = DataLoader(\n",
    "    test_dataset, batch_size=BATCH_SIZE, shuffle=False, num_workers=2\n",
    ")"
   ]
  },
  {
   "cell_type": "code",
   "execution_count": null,
   "metadata": {},
   "outputs": [],
   "source": [
    "from unet import UNet\n",
    "\n",
    "\n",
    "# 모델 정의\n",
    "model = UNet(in_channels=1, out_channels=1).to(device)\n",
    "\n",
    "date = \"colab-2024-10-09_06-03\"\n",
    "team = \"참가팀명\"\n",
    "\n",
    "file = f\"{date}_{team}_model_complete_state_dict_0050.pth\"\n",
    "\n",
    "# state_dict 로드\n",
    "model.load_state_dict(torch.load(file, map_location=device, weights_only=False))"
   ]
  },
  {
   "cell_type": "code",
   "execution_count": null,
   "metadata": {},
   "outputs": [],
   "source": [
    "from main import evaluate\n",
    "\n",
    "\n",
    "# 평가\n",
    "evaluate(model, test_dataloader, device)\n",
    "# GDS: 0.00000000, mIoU: 0.00000000"
   ]
  }
 ],
 "metadata": {
  "kernelspec": {
   "display_name": ".venv",
   "language": "python",
   "name": "python3"
  },
  "language_info": {
   "codemirror_mode": {
    "name": "ipython",
    "version": 3
   },
   "file_extension": ".py",
   "mimetype": "text/x-python",
   "name": "python",
   "nbconvert_exporter": "python",
   "pygments_lexer": "ipython3",
   "version": "3.12.6"
  }
 },
 "nbformat": 4,
 "nbformat_minor": 2
}
